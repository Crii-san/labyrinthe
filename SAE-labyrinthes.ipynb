{
 "cells": [
  {
   "cell_type": "code",
   "execution_count": 19,
   "id": "213dbee0",
   "metadata": {},
   "outputs": [],
   "source": [
    "class Maze:\n",
    "    \"\"\"\n",
    "    Classe Labyrinthe\n",
    "    Représentation sous forme de graphe non-orienté\n",
    "    dont chaque sommet est une cellule (un tuple (l,c))\n",
    "    et dont la structure est représentée par un dictionnaire\n",
    "      - clés : sommets\n",
    "      - valeurs : ensemble des sommets voisins accessibles\n",
    "    \"\"\"\n",
    "    def __init__(self, height, width, empty):\n",
    "        \"\"\"\n",
    "        Constructeur d'un labyrinthe de height cellules de haut \n",
    "        et de width cellules de large \n",
    "        Les voisinages sont initialisés à des ensembles vides\n",
    "        Remarque : dans le labyrinthe créé, chaque cellule est complètement emmurée\n",
    "        \"\"\"\n",
    "        self.height    = height\n",
    "        self.width     = width\n",
    "        \n",
    "        #si empty vaut False, aucune cellule n’a de voisines\n",
    "        if empty == False:\n",
    "            self.neighbors = {(i,j): set() for i in range(height) for j in range (width)}\n",
    "        #si empty vaut True, chaque cellule a pour voisines celles qui lui sont contigües dans la grille\n",
    "        else:\n",
    "            liste = []\n",
    "            res = \"\"\n",
    "            for i in range(height):\n",
    "                for j in range(width):\n",
    "                    \n",
    "                    #cordoonnées des voisins s'ils existent\n",
    "                    hautG = i - 1, j - 1\n",
    "                    haut = i - 1, j\n",
    "                    hautD = i - 1, j + 1\n",
    "                    G = i, j - 1\n",
    "                    D = i, j + 1\n",
    "                    basG = i + 1, j - 1\n",
    "                    bas = i + 1, j\n",
    "                    basD = i + 1, j + 1\n",
    "                    \n",
    "                    #les coordonnées des voisins possibles dépendent de la position en hauteur i et en largeur j\n",
    "                    if i == 0 and j == 0:\n",
    "                        coordVoisins = {D, bas, basD}\n",
    "                        liste.append(coordVoisins)\n",
    "                    elif i == 0 and j == width - 1:\n",
    "                        coordVoisins = {G, basG, bas}\n",
    "                        liste.append(coordVoisins)\n",
    "                    elif i == height - 1 and j == 0:\n",
    "                        coordVoisins = {hautD, haut, D}\n",
    "                        liste.append(coordVoisins)\n",
    "                    elif i == height - 1 and j == width - 1:\n",
    "                        coordVoisins = {hautG, haut, G}\n",
    "                        liste.append(coordVoisins)\n",
    "                    elif j == width - 1:\n",
    "                        coordVoisins = {hautG, haut, G, basG, bas}\n",
    "                        liste.append(coordVoisins)\n",
    "                    elif i == height - 1:\n",
    "                        coordVoisins = {hautD, haut, hautG, G, D}\n",
    "                        liste.append(coordVoisins)\n",
    "                    elif i == 0:\n",
    "                        coordVoisins = {G, D, basG, basD, bas}\n",
    "                        liste.append(coordVoisins)\n",
    "                    elif j == 0:\n",
    "                        coordVoisins = {haut, hautD, D, bas, basD}\n",
    "                        liste.append(coordVoisins)\n",
    "                    else: \n",
    "                        coordVoisins = {hautD, haut, hautG, G, D, basD, bas, basG}\n",
    "                        liste.append(coordVoisins)\n",
    "\n",
    "            self.neighbors = {}\n",
    "            var = 0\n",
    "            for i in range(height):\n",
    "                for j in range(width):\n",
    "                    self.neighbors[(i,j)] = liste[var]\n",
    "                    var += 1\n",
    "                    \n",
    "    def info(self):\n",
    "        \"\"\"\n",
    "        **NE PAS MODIFIER CETTE MÉTHODE**\n",
    "        Affichage des attributs d'un objet 'Maze' (fonction utile pour deboguer)\n",
    "        Retour:\n",
    "            chaîne (string): description textuelle des attributs de l'objet\n",
    "        \"\"\"\n",
    "        txt = \"**Informations sur le labyrinthe**\\n\"\n",
    "        txt += f\"- Dimensions de la grille : {self.height} x {self.width}\\n\"\n",
    "        txt += \"- Voisinages :\\n\"\n",
    "        txt += str(self.neighbors)+\"\\n\"\n",
    "        valid = True\n",
    "        for c1 in {(i, j) for i in range(self.height) for j in range(self.width)}:\n",
    "            for c2 in self.neighbors[c1]:\n",
    "                if c1 not in self.neighbors[c2]:\n",
    "                    valid = False\n",
    "                    break\n",
    "            else:\n",
    "                continue\n",
    "            break\n",
    "        txt += \"- Structure cohérente\\n\" if valid else f\"- Structure incohérente : {c1} X {c2}\\n\"\n",
    "        return txt\n",
    "\n",
    "    def __str__(self):\n",
    "        \"\"\"\n",
    "        **NE PAS MODIFIER CETTE MÉTHODE**\n",
    "        Représentation textuelle d'un objet Maze (en utilisant des caractères ascii)\n",
    "        Retour:\n",
    "             chaîne (str) : chaîne de caractères représentant le labyrinthe\n",
    "        \"\"\"\n",
    "        txt = \"\"\n",
    "        # Première ligne\n",
    "        txt += \"┏\"\n",
    "        for j in range(self.width-1):\n",
    "            txt += \"━━━┳\"\n",
    "        txt += \"━━━┓\\n\"\n",
    "        txt += \"┃\"\n",
    "        for j in range(self.width-1):\n",
    "            txt += \"   ┃\" if (0,j+1) not in self.neighbors[(0,j)] else \"    \"\n",
    "        txt += \"   ┃\\n\"\n",
    "        # Lignes normales\n",
    "        for i in range(self.height-1):\n",
    "            txt += \"┣\"\n",
    "            for j in range(self.width-1):\n",
    "                txt += \"━━━╋\" if (i+1,j) not in self.neighbors[(i,j)] else \"   ╋\"\n",
    "            txt += \"━━━┫\\n\" if (i+1,self.width-1) not in self.neighbors[(i,self.width-1)] else \"   ┫\\n\"\n",
    "            txt += \"┃\"\n",
    "            for j in range(self.width):\n",
    "                txt += \"   ┃\" if (i+1,j+1) not in self.neighbors[(i+1,j)] else \"    \"\n",
    "            txt += \"\\n\"\n",
    "        # Bas du tableau\n",
    "        txt += \"┗\"\n",
    "        for i in range(self.width-1):\n",
    "            txt += \"━━━┻\"\n",
    "        txt += \"━━━┛\\n\"\n",
    "\n",
    "        return txt\n",
    "    \n",
    "    def add_wall(self, c1, c2):\n",
    "        self.neighbors[c1].remove(c2)\n",
    "        self.neighbors[c2].remove(c1)\n",
    "          \n",
    "    def remove_wall(self, c1, c2):\n",
    "        self.neighbors[c1].add(c2)\n",
    "        self.neighbors[c2].add(c1)\n",
    "          \n",
    "    def get_walls(self):\n",
    "        listeMur = []\n",
    "        for i in range(self.height):\n",
    "            for j in range(self.width):\n",
    "                for k in range(self.height):\n",
    "                    for l in range(self.width):\n",
    "                        if (i, j) not in self.neighbors[(k, l)] and (k, l) not in self.neighbors[(i, j)]:\n",
    "                            listeMur.append([(i, j)])\n",
    "        return listeMur\n",
    "    \n",
    "    def fill(self):\n",
    "        for i in range(self.height):\n",
    "            for j in range(self.width):\n",
    "                for k in range(self.height):\n",
    "                    for l in range(self.width):\n",
    "                        if (k,l) in self.neighbors[(i,j)]:\n",
    "                            self.add_wall((i,j), (k,l))\n",
    "\n",
    "    def empty(self):\n",
    "        for i in range(self.height):\n",
    "            for j in range(self.width):\n",
    "                for k in range(self.height):\n",
    "                    for l in range(self.width):\n",
    "                        self.neighbors[(i,j)].add((k,l))\n",
    "                        self.neighbors[(k,l)].add((i,j))\n",
    "                        \n",
    "    def get_contiguous_cells(self, c):\n",
    "        liste = []\n",
    "        if c[0]-1 >= 0:\n",
    "            liste.append((c[0]-1, c[1]))\n",
    "        if  c[0]+1 > c[0]:\n",
    "            liste.append((c[0]+1, c[1]))\n",
    "        if c[1]-1 >= 0:\n",
    "            liste.append((c[0], c[1]-1))\n",
    "        if c[1]+1 > c[1]:\n",
    "            liste.append((c[0], c[1]+1))\n",
    "        return liste\n",
    "    \n",
    "    def get_reachable_cells(self, c):\n",
    "        liste1 = []\n",
    "        liste2 = []\n",
    "        if c[0]-1 >= 0:\n",
    "            liste1.append((c[0]-1, c[1]))\n",
    "        if  c[0]+1 > c[0]:\n",
    "            liste1.append((c[0]+1, c[1]))\n",
    "        if c[1]-1 >= 0:\n",
    "            liste1.append((c[0], c[1]-1))\n",
    "        if c[1]+1 > c[1]:\n",
    "            liste1.append((c[0], c[1]+1))\n",
    "        for elmt in liste1:\n",
    "            if elmt in self.neighbors[c]:\n",
    "                liste2.append(elmt)\n",
    "        return liste2"
   ]
  },
  {
   "cell_type": "code",
   "execution_count": 20,
   "id": "a90f00af",
   "metadata": {},
   "outputs": [
    {
     "name": "stdout",
     "output_type": "stream",
     "text": [
      "┏━━━┳━━━┳━━━┳━━━┓\n",
      "┃               ┃\n",
      "┣   ╋   ╋   ╋   ┫\n",
      "┃               ┃\n",
      "┣   ╋   ╋   ╋   ┫\n",
      "┃               ┃\n",
      "┣   ╋   ╋   ╋   ┫\n",
      "┃               ┃\n",
      "┗━━━┻━━━┻━━━┻━━━┛\n",
      "\n"
     ]
    }
   ],
   "source": [
    "laby = Maze(4, 4, empty = True)\n",
    "print(laby)"
   ]
  },
  {
   "cell_type": "code",
   "execution_count": 21,
   "id": "7127d87a",
   "metadata": {},
   "outputs": [
    {
     "name": "stdout",
     "output_type": "stream",
     "text": [
      "┏━━━┳━━━┳━━━┳━━━┓\n",
      "┃   ┃   ┃   ┃   ┃\n",
      "┣━━━╋━━━╋━━━╋━━━┫\n",
      "┃   ┃   ┃   ┃   ┃\n",
      "┣━━━╋━━━╋━━━╋━━━┫\n",
      "┃   ┃   ┃   ┃   ┃\n",
      "┣━━━╋━━━╋━━━╋━━━┫\n",
      "┃   ┃   ┃   ┃   ┃\n",
      "┗━━━┻━━━┻━━━┻━━━┛\n",
      "\n"
     ]
    }
   ],
   "source": [
    "laby = Maze(4, 4, empty = False)\n",
    "print(laby)"
   ]
  },
  {
   "cell_type": "code",
   "execution_count": 22,
   "id": "c8f17f22",
   "metadata": {},
   "outputs": [
    {
     "name": "stdout",
     "output_type": "stream",
     "text": [
      "┏━━━┳━━━┳━━━┳━━━┳━━━┓\n",
      "┃                   ┃\n",
      "┣   ╋   ╋   ╋   ╋   ┫\n",
      "┃                   ┃\n",
      "┣   ╋   ╋   ╋   ╋   ┫\n",
      "┃                   ┃\n",
      "┣   ╋   ╋   ╋   ╋   ┫\n",
      "┃                   ┃\n",
      "┣   ╋   ╋   ╋   ╋   ┫\n",
      "┃                   ┃\n",
      "┗━━━┻━━━┻━━━┻━━━┻━━━┛\n",
      "\n"
     ]
    }
   ],
   "source": [
    "laby = Maze(5, 5, empty = True)\n",
    "print(laby)"
   ]
  },
  {
   "cell_type": "code",
   "execution_count": 23,
   "id": "af5823ad",
   "metadata": {},
   "outputs": [
    {
     "name": "stdout",
     "output_type": "stream",
     "text": [
      "┏━━━┳━━━┳━━━┳━━━┳━━━┓\n",
      "┃   ┃               ┃\n",
      "┣   ╋   ╋   ╋   ╋   ┫\n",
      "┃                   ┃\n",
      "┣   ╋   ╋   ╋   ╋   ┫\n",
      "┃                   ┃\n",
      "┣   ╋   ╋   ╋   ╋   ┫\n",
      "┃                   ┃\n",
      "┣   ╋   ╋   ╋   ╋   ┫\n",
      "┃                   ┃\n",
      "┗━━━┻━━━┻━━━┻━━━┻━━━┛\n",
      "\n"
     ]
    }
   ],
   "source": [
    "laby.add_wall((0,0), (0,1))\n",
    "print(laby)"
   ]
  },
  {
   "cell_type": "code",
   "execution_count": 24,
   "id": "39894e62",
   "metadata": {},
   "outputs": [
    {
     "name": "stdout",
     "output_type": "stream",
     "text": [
      "┏━━━┳━━━┳━━━┳━━━┳━━━┓\n",
      "┃   ┃   ┃   ┃   ┃   ┃\n",
      "┣━━━╋━━━╋━━━╋━━━╋━━━┫\n",
      "┃   ┃   ┃   ┃   ┃   ┃\n",
      "┣━━━╋━━━╋━━━╋━━━╋━━━┫\n",
      "┃   ┃   ┃   ┃   ┃   ┃\n",
      "┣━━━╋━━━╋━━━╋━━━╋━━━┫\n",
      "┃   ┃   ┃   ┃   ┃   ┃\n",
      "┣━━━╋━━━╋━━━╋━━━╋━━━┫\n",
      "┃   ┃   ┃   ┃   ┃   ┃\n",
      "┗━━━┻━━━┻━━━┻━━━┻━━━┛\n",
      "\n"
     ]
    }
   ],
   "source": [
    "laby = Maze(5, 5, empty = True)\n",
    "laby.fill()\n",
    "print(laby)"
   ]
  },
  {
   "cell_type": "code",
   "execution_count": 25,
   "id": "1192eda6",
   "metadata": {},
   "outputs": [
    {
     "name": "stdout",
     "output_type": "stream",
     "text": [
      "┏━━━┳━━━┳━━━┳━━━┳━━━┓\n",
      "┃       ┃   ┃   ┃   ┃\n",
      "┣━━━╋━━━╋━━━╋━━━╋━━━┫\n",
      "┃   ┃   ┃   ┃   ┃   ┃\n",
      "┣━━━╋━━━╋━━━╋━━━╋━━━┫\n",
      "┃   ┃   ┃   ┃   ┃   ┃\n",
      "┣━━━╋━━━╋━━━╋━━━╋━━━┫\n",
      "┃   ┃   ┃   ┃   ┃   ┃\n",
      "┣━━━╋━━━╋━━━╋━━━╋━━━┫\n",
      "┃   ┃   ┃   ┃   ┃   ┃\n",
      "┗━━━┻━━━┻━━━┻━━━┻━━━┛\n",
      "\n"
     ]
    }
   ],
   "source": [
    "laby.remove_wall((0, 0), (0, 1))\n",
    "print(laby)"
   ]
  },
  {
   "cell_type": "code",
   "execution_count": 26,
   "id": "caaa7ed6",
   "metadata": {},
   "outputs": [
    {
     "name": "stdout",
     "output_type": "stream",
     "text": [
      "┏━━━┳━━━┳━━━┳━━━┳━━━┓\n",
      "┃   ┃               ┃\n",
      "┣   ╋━━━╋   ╋   ╋   ┫\n",
      "┃                   ┃\n",
      "┣   ╋   ╋   ╋   ╋   ┫\n",
      "┃                   ┃\n",
      "┣   ╋   ╋   ╋   ╋   ┫\n",
      "┃                   ┃\n",
      "┣   ╋   ╋   ╋   ╋   ┫\n",
      "┃                   ┃\n",
      "┗━━━┻━━━┻━━━┻━━━┻━━━┛\n",
      "\n"
     ]
    }
   ],
   "source": [
    "laby.empty()\n",
    "laby.add_wall((0, 0), (0, 1))\n",
    "laby.add_wall((0, 1), (1, 1))\n",
    "print(laby)"
   ]
  },
  {
   "cell_type": "code",
   "execution_count": 27,
   "id": "dcdd4b3a",
   "metadata": {},
   "outputs": [
    {
     "name": "stdout",
     "output_type": "stream",
     "text": [
      "[[(0, 0)], [(0, 1)], [(0, 1)], [(1, 1)]]\n"
     ]
    }
   ],
   "source": [
    "print(laby.get_walls())"
   ]
  },
  {
   "cell_type": "code",
   "execution_count": 28,
   "id": "263071cf",
   "metadata": {},
   "outputs": [
    {
     "name": "stdout",
     "output_type": "stream",
     "text": [
      "[(1, 1), (0, 0), (0, 2)]\n"
     ]
    }
   ],
   "source": [
    "print(laby.get_contiguous_cells((0,1)))"
   ]
  },
  {
   "cell_type": "code",
   "execution_count": 29,
   "id": "0a43079d",
   "metadata": {},
   "outputs": [
    {
     "name": "stdout",
     "output_type": "stream",
     "text": [
      "[(0, 2)]\n"
     ]
    }
   ],
   "source": [
    "print(laby.get_reachable_cells((0,1)))"
   ]
  },
  {
   "cell_type": "code",
   "execution_count": null,
   "id": "3ce5c31e",
   "metadata": {},
   "outputs": [],
   "source": []
  }
 ],
 "metadata": {
  "kernelspec": {
   "display_name": "Python 3 (ipykernel)",
   "language": "python",
   "name": "python3"
  },
  "language_info": {
   "codemirror_mode": {
    "name": "ipython",
    "version": 3
   },
   "file_extension": ".py",
   "mimetype": "text/x-python",
   "name": "python",
   "nbconvert_exporter": "python",
   "pygments_lexer": "ipython3",
   "version": "3.8.10"
  }
 },
 "nbformat": 4,
 "nbformat_minor": 5
}
